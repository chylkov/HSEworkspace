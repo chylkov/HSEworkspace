{
 "cells": [
  {
   "cell_type": "code",
   "execution_count": 46,
   "metadata": {
    "collapsed": true
   },
   "outputs": [],
   "source": [
    "import vk\n",
    "from time import sleep\n",
    "vk.logger.setLevel('INFO')"
   ]
  },
  {
   "cell_type": "code",
   "execution_count": 23,
   "metadata": {
    "collapsed": true
   },
   "outputs": [],
   "source": [
    "login = ''\n",
    "password = ''\n",
    "vk_id = ''"
   ]
  },
  {
   "cell_type": "code",
   "execution_count": 28,
   "metadata": {
    "collapsed": false
   },
   "outputs": [],
   "source": [
    "session = vk.AuthSession(app_id=vk_id, user_login=login, user_password=password, scope='wall, messages') \n",
    "vkapi = vk.API(session)\n",
    "messages = vkapi.messages.get(count=1)"
   ]
  },
  {
   "cell_type": "code",
   "execution_count": 32,
   "metadata": {
    "collapsed": false
   },
   "outputs": [],
   "source": [
    "friends_id_list = vkapi.friends.get()"
   ]
  },
  {
   "cell_type": "code",
   "execution_count": 33,
   "metadata": {
    "collapsed": false
   },
   "outputs": [
    {
     "data": {
      "text/plain": [
       "384"
      ]
     },
     "execution_count": 33,
     "metadata": {},
     "output_type": "execute_result"
    }
   ],
   "source": [
    "len(friends_id_list)"
   ]
  },
  {
   "cell_type": "code",
   "execution_count": 52,
   "metadata": {
    "collapsed": false
   },
   "outputs": [
    {
     "name": "stdout",
     "output_type": "stream",
     "text": [
      "HTTPSConnectionPool(host='api.vk.com', port=443): Read timed out. (read timeout=10)\n",
      "HTTPSConnectionPool(host='api.vk.com', port=443): Read timed out. (read timeout=10)\n",
      "18. User was deleted or banned. request_params = {'method': 'friends.get', 'oauth': '1', 'user_id': '14867928'}\n",
      "18. User was deleted or banned. request_params = {'method': 'friends.get', 'oauth': '1', 'user_id': '18066774'}\n",
      "18. User was deleted or banned. request_params = {'method': 'friends.get', 'oauth': '1', 'user_id': '45851880'}\n",
      "18. User was deleted or banned. request_params = {'method': 'friends.get', 'oauth': '1', 'user_id': '48844338'}\n",
      "18. User was deleted or banned. request_params = {'method': 'friends.get', 'oauth': '1', 'user_id': '50213336'}\n",
      "18. User was deleted or banned. request_params = {'method': 'friends.get', 'oauth': '1', 'user_id': '63725956'}\n",
      "18. User was deleted or banned. request_params = {'method': 'friends.get', 'oauth': '1', 'user_id': '68996578'}\n",
      "18. User was deleted or banned. request_params = {'method': 'friends.get', 'oauth': '1', 'user_id': '108705223'}\n",
      "18. User was deleted or banned. request_params = {'method': 'friends.get', 'oauth': '1', 'user_id': '151193331'}\n",
      "18. User was deleted or banned. request_params = {'method': 'friends.get', 'oauth': '1', 'user_id': '251577051'}\n",
      "18. User was deleted or banned. request_params = {'method': 'friends.get', 'oauth': '1', 'user_id': '263418792'}\n",
      "18. User was deleted or banned. request_params = {'method': 'friends.get', 'oauth': '1', 'user_id': '273082934'}\n",
      "18. User was deleted or banned. request_params = {'method': 'friends.get', 'oauth': '1', 'user_id': '280068755'}\n",
      "18. User was deleted or banned. request_params = {'method': 'friends.get', 'oauth': '1', 'user_id': '345892618'}\n",
      "18. User was deleted or banned. request_params = {'method': 'friends.get', 'oauth': '1', 'user_id': '359947253'}\n"
     ]
    }
   ],
   "source": [
    "friends = {}\n",
    "for fr in friends_id_list:\n",
    "    sleep(1)\n",
    "    try:\n",
    "        friends[fr] = vkapi.friends.get(user_id=fr)\n",
    "    except Exception as e:\n",
    "        print(e)\n",
    "        continue"
   ]
  },
  {
   "cell_type": "code",
   "execution_count": 53,
   "metadata": {
    "collapsed": false
   },
   "outputs": [
    {
     "data": {
      "text/plain": [
       "367"
      ]
     },
     "execution_count": 53,
     "metadata": {},
     "output_type": "execute_result"
    }
   ],
   "source": [
    "len(friends)"
   ]
  },
  {
   "cell_type": "code",
   "execution_count": 54,
   "metadata": {
    "collapsed": true
   },
   "outputs": [],
   "source": [
    "import json"
   ]
  },
  {
   "cell_type": "code",
   "execution_count": 57,
   "metadata": {
    "collapsed": false
   },
   "outputs": [],
   "source": [
    "with open('friends.txt', 'w') as outfile:\n",
    "    json.dump(friends, outfile)"
   ]
  }
 ],
 "metadata": {
  "anaconda-cloud": {},
  "kernelspec": {
   "display_name": "Python [conda root]",
   "language": "python",
   "name": "conda-root-py"
  },
  "language_info": {
   "codemirror_mode": {
    "name": "ipython",
    "version": 3
   },
   "file_extension": ".py",
   "mimetype": "text/x-python",
   "name": "python",
   "nbconvert_exporter": "python",
   "pygments_lexer": "ipython3",
   "version": "3.5.2"
  }
 },
 "nbformat": 4,
 "nbformat_minor": 2
}
